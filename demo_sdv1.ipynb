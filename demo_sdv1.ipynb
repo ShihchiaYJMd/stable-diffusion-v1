{
  "nbformat": 4,
  "nbformat_minor": 0,
  "metadata": {
    "colab": {
      "provenance": [],
      "machine_shape": "hm",
      "authorship_tag": "ABX9TyMBpn4sB7tWLrg9Ri0orN+y",
      "include_colab_link": true
    },
    "kernelspec": {
      "name": "python3",
      "display_name": "Python 3"
    },
    "language_info": {
      "name": "python"
    }
  },
  "cells": [
    {
      "cell_type": "markdown",
      "metadata": {
        "id": "view-in-github",
        "colab_type": "text"
      },
      "source": [
        "<a href=\"https://colab.research.google.com/github/ShihchiaYJMd/stable-diffusion-v1/blob/main/demo_sdv1.ipynb\" target=\"_parent\"><img src=\"https://colab.research.google.com/assets/colab-badge.svg\" alt=\"Open In Colab\"/></a>"
      ]
    },
    {
      "cell_type": "code",
      "execution_count": null,
      "metadata": {
        "id": "iepUi2AwInMm"
      },
      "outputs": [],
      "source": [
        "!git clone https://github.com/ShihchiaYJMd/stable-diffusion-v1.git"
      ]
    },
    {
      "cell_type": "code",
      "source": [
        "!pip install pytorch-lightning\n",
        "# prompt: 我要下载https://huggingface.co/stable-diffusion-v1-5/stable-diffusion-v1-5/blob/main/v1-5-pruned-emaonly.ckpt\n",
        "\n",
        "# !wget https://huggingface.co/stable-diffusion-v1-5/stable-diffusion-v1-5/resolve/main/v1-5-pruned-emaonly.ckpt\n",
        "\n",
        "import requests\n",
        "from pathlib import Path\n",
        "\n",
        "# 文件的URL\n",
        "url = \"https://huggingface.co/stable-diffusion-v1-5/stable-diffusion-v1-5/resolve/main/v1-5-pruned-emaonly.ckpt\"\n",
        "\n",
        "# 指定目标目录\n",
        "CKPT_PATH = Path(\"ckpt\")\n",
        "CKPT_PATH.mkdir(parents=True, exist_ok=True)  # 创建目录（如果不存在）\n",
        "\n",
        "# 发送GET请求\n",
        "response = requests.get(url, stream=True)\n",
        "\n",
        "# 检查请求是否成功\n",
        "if response.status_code == 200:\n",
        "    # 定义文件的保存路径\n",
        "    save_path = CKPT_PATH / \"v1-5-pruned-emaonly.ckpt\"\n",
        "\n",
        "    # 打开一个文件用于写入二进制数据\n",
        "    with open(save_path, \"wb\") as file:\n",
        "        # 逐块写入文件\n",
        "        for chunk in response.iter_content(chunk_size=8192):\n",
        "            file.write(chunk)\n",
        "    print(f\"文件下载完成，保存路径: {save_path}\")\n",
        "else:\n",
        "    print(f\"下载失败，状态码: {response.status_code}\")"
      ],
      "metadata": {
        "id": "6NcKXVUPIsZw"
      },
      "execution_count": null,
      "outputs": []
    },
    {
      "cell_type": "code",
      "source": [
        "# 列出 ckpt 目录中的文件\n",
        "!ls ckpt"
      ],
      "metadata": {
        "id": "O2e_WwMiI8pX"
      },
      "execution_count": null,
      "outputs": []
    },
    {
      "cell_type": "code",
      "source": [
        "import sys\n",
        "import os\n",
        "\n",
        "# Add the paths to your model_loader and pipeline files to the system path.\n",
        "# Replace 'path/to/your/stable-diffusion-v1' with the actual path\n",
        "# to the cloned repository. The example below assumes the files\n",
        "# are in the 'stable-diffusion-v1' directory.\n",
        "sys.path.append('/content/stable-diffusion-v1/sd1/sdv1')\n",
        "\n",
        "try:\n",
        "    import model_loader\n",
        "    import pipeline\n",
        "    print(\"Successfully imported model_loader and pipeline.\")\n",
        "\n",
        "except ImportError as e:\n",
        "    print(f\"Error importing modules: {e}\")\n",
        "    print(\"Please double-check that the paths are correct \"\n",
        "          \"and the files exist in the specified directories.\")\n",
        "    print(\"Current sys.path:\", sys.path)"
      ],
      "metadata": {
        "id": "ZaEWeORdJ3N7"
      },
      "execution_count": null,
      "outputs": []
    },
    {
      "cell_type": "code",
      "source": [
        "import model_loader\n",
        "import pipeline\n",
        "from PIL import Image\n",
        "from transformers import CLIPTokenizer\n",
        "import torch\n",
        "\n",
        "DEVICE = 'cpu'\n",
        "\n",
        "ALLOW_CUDA = False\n",
        "ALLOW_MPS = False\n",
        "\n",
        "if torch.cuda.is_available() and ALLOW_CUDA:\n",
        "    DEVICE = 'cuda'\n",
        "elif (torch.backends.mps.is_built() or torch.backends.mps.is_available()) and ALLOW_MPS:\n",
        "    DEVICE = 'mps'\n",
        "print(f\"Using device: {DEVICE}\")\n",
        "\n",
        "tokenizer = CLIPTokenizer(\"/content/stable-diffusion-v1/sd1/data/vocab.json\", merges_file=\"/content/stable-diffusion-v1/sd1/data/merges.txt\")\n",
        "model_file = \"ckpt/v1-5-pruned-emaonly.ckpt\"\n",
        "models = model_loader.preload_models_from_standard_weights(model_file, DEVICE)\n",
        "\n",
        "# Text-to-Image\n",
        "prompt = \"a pretty beautiful woman with a sword\"\n",
        "uncond_prompt = \"\"\n",
        "do_cfg = True\n",
        "cfg_scale = 7\n",
        "\n",
        "# Image-to-Image\n",
        "input_image = None\n",
        "image_path = \"/content/stable-diffusion-v1/sd1/images/qiuzhen_yau.jpg\"\n",
        "# input_image = Image.open(image_path).convert(\"RGB\")\n",
        "strength = 0.9\n",
        "\n",
        "sampler = 'ddpm'\n",
        "num_inference_steps = 50\n",
        "seed = 42\n",
        "\n",
        "output_image = pipeline.generate(\n",
        "    prompt=prompt,\n",
        "    uncond_prompt=uncond_prompt,\n",
        "    input_image=input_image,\n",
        "    strength=strength,\n",
        "    do_cfg=do_cfg,\n",
        "    cfg_scale=cfg_scale,\n",
        "    sampler_name=sampler,\n",
        "    n_inference_steps=num_inference_steps,\n",
        "    models=models,\n",
        "    seed=seed,\n",
        "    device=DEVICE,\n",
        "    idle_device='cpu',\n",
        "    tokenizer=tokenizer\n",
        ")\n",
        "\n",
        "Image.fromarray(output_image)\n",
        "\n",
        "save_path = \"output1.png\"\n",
        "Image.fromarray(output_image).save(save_path)"
      ],
      "metadata": {
        "id": "Crie_iGxJbrL"
      },
      "execution_count": null,
      "outputs": []
    }
  ]
}